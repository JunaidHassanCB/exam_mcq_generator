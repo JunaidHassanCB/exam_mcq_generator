{
  "nbformat": 4,
  "nbformat_minor": 0,
  "metadata": {
    "colab": {
      "provenance": []
    },
    "kernelspec": {
      "name": "python3",
      "display_name": "Python 3"
    },
    "language_info": {
      "name": "python"
    }
  },
  "cells": [
    {
      "cell_type": "markdown",
      "source": [
        "#Resources"
      ],
      "metadata": {
        "id": "bJ04CPCrZgDQ"
      }
    },
    {
      "cell_type": "markdown",
      "source": [
        "* https://www.youtube.com/watch?v=ZzgUqFtxgXI\n",
        "* https://www.youtube.com/watch?v=7aBRk_JP-qY\n",
        "* https://learn.deeplearning.ai/langchain-chat-with-your-data/lesson/3/document-splitting"
      ],
      "metadata": {
        "id": "LkiJqtHQZiym"
      }
    },
    {
      "cell_type": "markdown",
      "source": [
        "#Introduction"
      ],
      "metadata": {
        "id": "m-ikwGBjMI4K"
      }
    },
    {
      "cell_type": "markdown",
      "source": [
        "Title: Exam MCQ Generator"
      ],
      "metadata": {
        "id": "mLRXYyYMML6S"
      }
    },
    {
      "cell_type": "markdown",
      "source": [
        "Game Plan:\n",
        "\n",
        "*   Divide the document into multiple chuncks and then select chunks at random, pass them to Langchain and ask to make an MCQ out of it"
      ],
      "metadata": {
        "id": "o7UK-p8sMPZK"
      }
    },
    {
      "cell_type": "markdown",
      "source": [
        "#Installs"
      ],
      "metadata": {
        "id": "bmFi-Hk6Evih"
      }
    },
    {
      "cell_type": "code",
      "source": [
        "!pip install -q python-dotenv\n",
        "\n",
        "!pip install -q langchain_experimental\n",
        "!pip install -q langchain\n",
        "\n",
        "!pip install -q openai"
      ],
      "metadata": {
        "id": "u2t8uaVSEwvu"
      },
      "execution_count": 112,
      "outputs": []
    },
    {
      "cell_type": "code",
      "source": [
        "!pip install -q pydantic"
      ],
      "metadata": {
        "id": "7HVRFDBtRaW_"
      },
      "execution_count": 113,
      "outputs": []
    },
    {
      "cell_type": "markdown",
      "source": [
        "#Imports"
      ],
      "metadata": {
        "id": "A1x1YGfOE_oS"
      }
    },
    {
      "cell_type": "code",
      "source": [
        "import os\n",
        "\n",
        "from langchain.embeddings.openai import OpenAIEmbeddings\n",
        "from langchain.text_splitter import CharacterTextSplitter\n",
        "\n",
        "from langchain.prompts import ChatPromptTemplate\n",
        "from langchain.chat_models import ChatOpenAI\n",
        "from langchain.chains import LLMChain"
      ],
      "metadata": {
        "id": "pS0ZpqhCFBMR"
      },
      "execution_count": 114,
      "outputs": []
    },
    {
      "cell_type": "markdown",
      "source": [
        "#Data Source"
      ],
      "metadata": {
        "id": "Uoi0Wy5cXo_h"
      }
    },
    {
      "cell_type": "code",
      "execution_count": 115,
      "metadata": {
        "colab": {
          "base_uri": "https://localhost:8080/"
        },
        "id": "Q29vd3OyXQka",
        "outputId": "56d4c973-82b6-425d-a278-586d7c5d27cd"
      },
      "outputs": [
        {
          "output_type": "stream",
          "name": "stdout",
          "text": [
            "Drive already mounted at /content/drive; to attempt to forcibly remount, call drive.mount(\"/content/drive\", force_remount=True).\n"
          ]
        }
      ],
      "source": [
        "from google.colab import drive\n",
        "\n",
        "drive.mount('/content/drive')"
      ]
    },
    {
      "cell_type": "code",
      "source": [
        "wizard_in_oz_text_path = '/content/drive/MyDrive/datasets/llm-from-scratch/wizard_in_oz.txt'"
      ],
      "metadata": {
        "id": "Ka2XEvl8XrG1"
      },
      "execution_count": 116,
      "outputs": []
    },
    {
      "cell_type": "code",
      "source": [
        "def read_text_file(path):\n",
        "  with open(path, 'r', encoding='utf-8') as f:\n",
        "    text = f.read()\n",
        "\n",
        "  return text"
      ],
      "metadata": {
        "id": "Ftmzc3K3QW7T"
      },
      "execution_count": 139,
      "outputs": []
    },
    {
      "cell_type": "code",
      "source": [
        "text = read_text_file(wizard_in_oz_text_path)"
      ],
      "metadata": {
        "id": "2XeC5XxUdiEI"
      },
      "execution_count": 140,
      "outputs": []
    },
    {
      "cell_type": "code",
      "source": [
        "print(text[:100])"
      ],
      "metadata": {
        "colab": {
          "base_uri": "https://localhost:8080/"
        },
        "id": "f2ET8m79disZ",
        "outputId": "62b2f6c1-d245-41f7-a86a-55546c4f2105"
      },
      "execution_count": 141,
      "outputs": [
        {
          "output_type": "stream",
          "name": "stdout",
          "text": [
            "﻿Title: Dorothy and the Wizard in Oz\n",
            "\n",
            "\n",
            "Author: L. Frank Baum\n",
            "\n",
            "Illustrator: John R. Neill\n",
            "\n",
            "Release da\n"
          ]
        }
      ]
    },
    {
      "cell_type": "markdown",
      "source": [
        "#Env"
      ],
      "metadata": {
        "id": "64daLT8tFOIK"
      }
    },
    {
      "cell_type": "code",
      "source": [
        "env_path = '/content/drive/MyDrive/credentials/data-analytics-demo/.env'"
      ],
      "metadata": {
        "id": "V3RXC1W0djkz"
      },
      "execution_count": 119,
      "outputs": []
    },
    {
      "cell_type": "code",
      "source": [
        "from dotenv import load_dotenv, find_dotenv\n",
        "\n",
        "load_dotenv(env_path)"
      ],
      "metadata": {
        "colab": {
          "base_uri": "https://localhost:8080/"
        },
        "id": "ymW18blMFMOM",
        "outputId": "9302d500-3eb2-4b4d-8f01-21b0d423381b"
      },
      "execution_count": 120,
      "outputs": [
        {
          "output_type": "execute_result",
          "data": {
            "text/plain": [
              "True"
            ]
          },
          "metadata": {},
          "execution_count": 120
        }
      ]
    },
    {
      "cell_type": "code",
      "source": [
        "GOOGLE_PALM_API_KEY = os.environ['GOOGLE_PALM_API_KEY']\n",
        "HUGGINGFACE_API_KEY = os.environ['HUGGINGFACE_API_KEY']\n",
        "OPEN_AI_API_KEY = os.environ['OPEN_AI_API_KEY']\n",
        "\n",
        "# GOOGLE_PALM_API_KEY, HUGGINGFACE_API_KEY, OPEN_AI_API_KEY"
      ],
      "metadata": {
        "id": "Er0qbi8PFNey"
      },
      "execution_count": 121,
      "outputs": []
    },
    {
      "cell_type": "markdown",
      "source": [
        "#Model"
      ],
      "metadata": {
        "id": "6vYSSCaaOwTD"
      }
    },
    {
      "cell_type": "code",
      "source": [
        "from pydantic import BaseModel, Field\n",
        "\n",
        "class MCQModel(BaseModel):\n",
        "  question: str = Field(description=\"This is the question text\")\n",
        "  options: list[str] = Field(description=\"This is a list of multiple choices or options avalible\")\n",
        "  correct_option: str = Field(description=\"This is the correct choice or option\")"
      ],
      "metadata": {
        "id": "Qf3wdSRvDZ6q"
      },
      "execution_count": 122,
      "outputs": []
    },
    {
      "cell_type": "code",
      "source": [
        "from langchain.output_parsers import PydanticOutputParser\n",
        "\n",
        "pydantic_parser = PydanticOutputParser(pydantic_object=MCQModel)\n",
        "\n",
        "format_instructions = pydantic_parser.get_format_instructions()\n",
        "\n",
        "print(format_instructions)"
      ],
      "metadata": {
        "colab": {
          "base_uri": "https://localhost:8080/"
        },
        "id": "UomvYYs3Er4d",
        "outputId": "1e377f8d-0b13-4d68-ddd7-ef416baace93"
      },
      "execution_count": 123,
      "outputs": [
        {
          "output_type": "stream",
          "name": "stdout",
          "text": [
            "The output should be formatted as a JSON instance that conforms to the JSON schema below.\n",
            "\n",
            "As an example, for the schema {\"properties\": {\"foo\": {\"title\": \"Foo\", \"description\": \"a list of strings\", \"type\": \"array\", \"items\": {\"type\": \"string\"}}}, \"required\": [\"foo\"]}\n",
            "the object {\"foo\": [\"bar\", \"baz\"]} is a well-formatted instance of the schema. The object {\"properties\": {\"foo\": [\"bar\", \"baz\"]}} is not well-formatted.\n",
            "\n",
            "Here is the output schema:\n",
            "```\n",
            "{\"properties\": {\"question\": {\"title\": \"Question\", \"description\": \"This is the question text\", \"type\": \"string\"}, \"options\": {\"title\": \"Options\", \"description\": \"This is a list of multiple choices or options avalible\", \"type\": \"array\", \"items\": {\"type\": \"string\"}}, \"correct_option\": {\"title\": \"Correct Option\", \"description\": \"This is the correct choice or option\", \"type\": \"string\"}}, \"required\": [\"question\", \"options\", \"correct_option\"]}\n",
            "```\n"
          ]
        }
      ]
    },
    {
      "cell_type": "code",
      "source": [
        "langchain_llm = ChatOpenAI(openai_api_key=OPEN_AI_API_KEY, model_name=\"gpt-3.5-turbo-0613\", verbose=False,)"
      ],
      "metadata": {
        "id": "HLQQRe4DebG9"
      },
      "execution_count": 124,
      "outputs": []
    },
    {
      "cell_type": "code",
      "source": [
        "prompt = (\n",
        "    \"Text:\"\n",
        "    \"\\n{text}\"\n",
        "    \"\\nGenerate an Multiple Choice Question from this text. Also return the correct option.\"\n",
        "    \"\\nDo not use any outside information\"\n",
        "    \"\\n{format_instructions}\"\n",
        ")"
      ],
      "metadata": {
        "id": "O5feLlNGRRbC"
      },
      "execution_count": 128,
      "outputs": []
    },
    {
      "cell_type": "code",
      "source": [
        "prompt_template = ChatPromptTemplate.from_template(prompt)\n",
        "\n",
        "prompt_template"
      ],
      "metadata": {
        "colab": {
          "base_uri": "https://localhost:8080/"
        },
        "id": "H2U1SRNNRxV3",
        "outputId": "c27fe0a3-9dd5-409f-f8c3-6ea11a3ba78c"
      },
      "execution_count": 129,
      "outputs": [
        {
          "output_type": "execute_result",
          "data": {
            "text/plain": [
              "ChatPromptTemplate(input_variables=['format_instructions', 'text'], messages=[HumanMessagePromptTemplate(prompt=PromptTemplate(input_variables=['format_instructions', 'text'], template='Text:\\n{text}\\nGenerate an Multiple Choice Question from this text. Also return the correct option.\\nDo not use any outside information\\n{format_instructions}'))])"
            ]
          },
          "metadata": {},
          "execution_count": 129
        }
      ]
    },
    {
      "cell_type": "code",
      "source": [
        "llm_chain = LLMChain(llm=langchain_llm, prompt=prompt_template, output_key=\"result\")"
      ],
      "metadata": {
        "id": "q6y-XA9ySO3K"
      },
      "execution_count": 130,
      "outputs": []
    },
    {
      "cell_type": "code",
      "source": [
        "def get_docs(text, chunk_size=500, chunk_overlap=0):\n",
        "  text_splitter = CharacterTextSplitter(\n",
        "      separator=\"\\n\",\n",
        "      chunk_size=chunk_size,\n",
        "      chunk_overlap=chunk_overlap,\n",
        "      length_function=len,\n",
        "      is_separator_regex=False,\n",
        "  )\n",
        "\n",
        "  docs = text_splitter.create_documents([text])\n",
        "\n",
        "  return docs"
      ],
      "metadata": {
        "id": "E10PxjnJja1L"
      },
      "execution_count": 181,
      "outputs": []
    },
    {
      "cell_type": "code",
      "source": [
        "from langchain.callbacks import get_openai_callback as get_langchain_openai_callback\n",
        "import random\n",
        "\n",
        "def get_mcq(docs):\n",
        "  doc_index = random.randint(0, len(docs)-1)\n",
        "\n",
        "  with get_langchain_openai_callback() as cb_langchain:\n",
        "    response = llm_chain.invoke({\"text\": docs[doc_index], \"format_instructions\": format_instructions})\n",
        "\n",
        "  return {'doc_index': doc_index, 'mcq_parsed':  MCQModel.parse_raw(response['result']), 'cb_langchain': cb_langchain}"
      ],
      "metadata": {
        "id": "tMFoHATzPiG5"
      },
      "execution_count": 178,
      "outputs": []
    },
    {
      "cell_type": "code",
      "source": [
        "def cb_to_dict(info_string):\n",
        "    # Split the string into lines\n",
        "    lines = str(info_string).strip().split('\\n')\n",
        "\n",
        "    # Initialize an empty dictionary\n",
        "    info_dict = {}\n",
        "\n",
        "    # Iterate through each line and extract key-value pairs\n",
        "    for line in lines:\n",
        "        key, value = map(str.strip, line.split(':', 1))\n",
        "        # Check if the value is numeric, convert it to an int or float accordingly\n",
        "        if value.replace('.', '', 1).isdigit():\n",
        "            value = float(value) if '.' in value else int(value)\n",
        "        info_dict[key] = value\n",
        "\n",
        "    info_dict['Total Cost (USD)'] = float(info_dict['Total Cost (USD)'].replace('$', ''))\n",
        "\n",
        "    return info_dict"
      ],
      "metadata": {
        "id": "D6xPPWNttZ5C"
      },
      "execution_count": 197,
      "outputs": []
    },
    {
      "cell_type": "code",
      "source": [
        "def sum_dicts(dict_list):\n",
        "    if not dict_list:\n",
        "        return {}\n",
        "\n",
        "    result_dict = {}\n",
        "\n",
        "    # Find the intersection of keys in all dictionaries\n",
        "    common_keys = set.intersection(*(set(d.keys()) for d in dict_list))\n",
        "\n",
        "    for key in common_keys:\n",
        "        result_dict[key] = sum(d[key] for d in dict_list)\n",
        "\n",
        "    return result_dict"
      ],
      "metadata": {
        "id": "zvPddFW8reRA"
      },
      "execution_count": 185,
      "outputs": []
    },
    {
      "cell_type": "code",
      "source": [
        "def get_exam(text, limit=5):\n",
        "\n",
        "  docs = get_docs(text)\n",
        "\n",
        "  mcqs = [get_mcq(docs) for i in range(limit)]\n",
        "\n",
        "  return {'mcqs': mcqs, 'sum_cost': sum_dicts([cb_to_dict(i['cb_langchain']) for i in mcqs])}"
      ],
      "metadata": {
        "id": "5lnytu85qofg"
      },
      "execution_count": 199,
      "outputs": []
    },
    {
      "cell_type": "markdown",
      "source": [
        "#Testing"
      ],
      "metadata": {
        "id": "45rsHQaGmfaM"
      }
    },
    {
      "cell_type": "code",
      "source": [
        "test_docs = get_docs(text=text, chunk_size=1000, chunk_overlap=200)"
      ],
      "metadata": {
        "id": "gdewK3ZOkJ9g"
      },
      "execution_count": 174,
      "outputs": []
    },
    {
      "cell_type": "code",
      "source": [
        "response = get_mcq(docs=test_docs)"
      ],
      "metadata": {
        "id": "1EbUZdLie2AV"
      },
      "execution_count": 179,
      "outputs": []
    },
    {
      "cell_type": "code",
      "source": [
        "print(response['mcq_parsed'])\n",
        "\n",
        "print('\\n')\n",
        "print(f\"doc_index = {response['doc_index']}\")\n",
        "print('\\ncosting:\\n')\n",
        "print(f\"{response['cb_langchain']}\")"
      ],
      "metadata": {
        "colab": {
          "base_uri": "https://localhost:8080/"
        },
        "id": "P8P_jJpXe4Kd",
        "outputId": "c3a6cf46-f8cb-41a9-9cff-015fc0344814"
      },
      "execution_count": 180,
      "outputs": [
        {
          "output_type": "stream",
          "name": "stdout",
          "text": [
            "question='What did the Wizard call himself when he joined the circus?' options=['A. Wizard', 'B. Oz', 'C. Superior creature', 'D. Ventriloquist'] correct_option='A. Wizard'\n",
            "\n",
            "\n",
            "doc_index = 217\n",
            "\n",
            "costing:\n",
            "\n",
            "Tokens Used: 558\n",
            "\tPrompt Tokens: 506\n",
            "\tCompletion Tokens: 52\n",
            "Successful Requests: 1\n",
            "Total Cost (USD): $0.000863\n"
          ]
        }
      ]
    },
    {
      "cell_type": "markdown",
      "source": [
        "#Pydantic Demo"
      ],
      "metadata": {
        "id": "vJU1KnNYRUIG"
      }
    },
    {
      "cell_type": "code",
      "source": [
        "from pydantic import BaseModel, EmailStr, validator\n",
        "\n",
        "class User(BaseModel):\n",
        "  name: str\n",
        "  # email: EmailStr\n",
        "  email: str\n",
        "  account_id: int\n",
        "\n",
        "  @validator(\"account_id\")\n",
        "  def validate_account_id(cls, value):\n",
        "    if value<=0:\n",
        "      raise ValueError(f'Account ID cannot be negative: {value}')\n",
        "\n",
        "    return value\n",
        "\n",
        "user = User(name='jack', email='a@b.com', account_id=1234)\n",
        "\n",
        "print(user)\n",
        "print(user.json())\n",
        "print(user.dict())\n",
        "print(user.parse_raw(user.json()))"
      ],
      "metadata": {
        "id": "KHFMUsI0fRll",
        "colab": {
          "base_uri": "https://localhost:8080/"
        },
        "outputId": "5692ac35-f8bc-429a-89c9-6bf02fb00d9c"
      },
      "execution_count": 135,
      "outputs": [
        {
          "output_type": "stream",
          "name": "stdout",
          "text": [
            "name='jack' email='a@b.com' account_id=1234\n",
            "{\"name\": \"jack\", \"email\": \"a@b.com\", \"account_id\": 1234}\n",
            "{'name': 'jack', 'email': 'a@b.com', 'account_id': 1234}\n",
            "name='jack' email='a@b.com' account_id=1234\n"
          ]
        }
      ]
    },
    {
      "cell_type": "markdown",
      "source": [
        "#Working Demo"
      ],
      "metadata": {
        "id": "yqGQ313tPiGZ"
      }
    },
    {
      "cell_type": "code",
      "source": [
        "def display_exam(exam):\n",
        "\n",
        "  for i in exam['mcqs']:\n",
        "    print(f\"doc_index: {i['doc_index']}\\n\")\n",
        "    print(f\"question: {i['mcq_parsed'].question}\\n\")\n",
        "\n",
        "    for index, j in enumerate(i['mcq_parsed'].options):\n",
        "      print(f\"{index+1}. {j}\")\n",
        "\n",
        "    print(f\"\\ncorrect: {i['mcq_parsed'].correct_option}\\n\\n\")\n",
        "\n",
        "  print(exam['sum_cost'])"
      ],
      "metadata": {
        "id": "doaYDjrhuHfA"
      },
      "execution_count": 226,
      "outputs": []
    },
    {
      "cell_type": "code",
      "source": [
        "texts_path = '/content/drive/MyDrive/datasets/exam_mcq_generator/texts'"
      ],
      "metadata": {
        "id": "jkYbAdbrR0gV"
      },
      "execution_count": 206,
      "outputs": []
    },
    {
      "cell_type": "code",
      "source": [
        "text_path_01 = os.path.join(texts_path, '01.txt')\n",
        "text_path_02 = os.path.join(texts_path, '02.txt')\n",
        "text_path_03 = os.path.join(texts_path, '03.txt')\n",
        "text_path_04 = os.path.join(texts_path, '04.txt')\n",
        "text_path_05 = os.path.join(texts_path, '05.txt')"
      ],
      "metadata": {
        "id": "p_oFAcrAP3V6"
      },
      "execution_count": 207,
      "outputs": []
    },
    {
      "cell_type": "code",
      "source": [
        "text_01 = read_text_file(text_path_01)\n",
        "\n",
        "display(text_01)"
      ],
      "metadata": {
        "colab": {
          "base_uri": "https://localhost:8080/",
          "height": 123
        },
        "id": "k9Dq7cpKQLI8",
        "outputId": "32d86e91-3af6-491f-da65-7df84ed1cc12"
      },
      "execution_count": 228,
      "outputs": [
        {
          "output_type": "display_data",
          "data": {
            "text/plain": [
              "\"In the small coastal village of Eldridge Haven, where the briny scent of the ocean mingled with the sweet fragrance of blooming flowers, lived a young woman named Seraphina. Her days were filled with the rhythmic ebb and flow of tide, the gentle whispers of the wind through ancient willows, and the comforting routine of life in a close-knit community. Yet, beneath the surface of tranquil routine lurked an undercurrent of restlessness that stirred within Seraphina's soul, beckoning her toward the unknown.\\n\\nOne fateful evening, as the sun dipped below the horizon, casting a warm palette of pinks and purples across the sky, Seraphina took a solitary stroll along the shore. The rhythmic crashing of the waves seemed to sync with the beating of her heart, echoing the unspoken desire for adventure that tugged at the edges of her consciousness. Little did she know that this serene walk would unravel the fabric of her familiar existence and set her on a path of unforeseen destiny.\\n\\nIn the twilight, Seraphina stumbled upon an ancient artifact half-buried in the sand. Intricately carved and pulsating with an otherworldly glow, the artifact emitted a magnetic energy that drew her closer. Hesitant but undeniably intrigued, she gingerly brushed away the sand, revealing a peculiar map etched into the surface. The map depicted an uncharted archipelago, marked by cryptic symbols and enigmatic landmarks that seemed to defy the laws of geography.\\n\\nWith a surge of determination, Seraphina decided to embark on a journey to unravel the mysteries hidden within the ancient map. Her departure from Eldridge Haven was met with a mixture of concern and anticipation, as the villagers sensed an unspoken destiny weaving its threads around their beloved resident. Equipped with a weathered satchel, a compass, and the shimmering artifact as her guide, Seraphina set sail into the vast unknown.\\n\\nAs her boat cut through the cerulean waters, the winds whispered tales of lost civilizations and forgotten magic. Seraphina encountered mythical creatures, forged alliances with enigmatic beings, and faced trials that tested the limits of her courage and resilience. Along the way, she discovered that the archipelago held the key to a realm suspended between reality and dreams—a realm where the boundaries of time and space intertwined in a dance of cosmic significance.\\n\\nThe journey, both perilous and enchanting, transformed Seraphina from a curious villager into a guardian of realms, entrusted with the task of restoring balance to the delicate tapestry of existence. Her story echoed through the ages, inspiring generations to come, as the village of Eldridge Haven continued to thrive under the watchful eyes of those who remembered the young woman who dared to venture beyond the shores of familiarity.\\n\\nAnd so, as the sun dipped below the horizon once more, casting a warm palette of pinks and purples across the sky, Eldridge Haven stood as a testament to the enduring power of curiosity, courage, and the uncharted territories that reside within every soul.\""
            ],
            "application/vnd.google.colaboratory.intrinsic+json": {
              "type": "string"
            }
          },
          "metadata": {}
        }
      ]
    },
    {
      "cell_type": "code",
      "source": [
        "display(text_01[:500])"
      ],
      "metadata": {
        "colab": {
          "base_uri": "https://localhost:8080/",
          "height": 70
        },
        "id": "4Gul6_9hw519",
        "outputId": "d7e1dd76-61f7-442a-ddd3-080acf2fa91c"
      },
      "execution_count": 229,
      "outputs": [
        {
          "output_type": "display_data",
          "data": {
            "text/plain": [
              "\"In the small coastal village of Eldridge Haven, where the briny scent of the ocean mingled with the sweet fragrance of blooming flowers, lived a young woman named Seraphina. Her days were filled with the rhythmic ebb and flow of tide, the gentle whispers of the wind through ancient willows, and the comforting routine of life in a close-knit community. Yet, beneath the surface of tranquil routine lurked an undercurrent of restlessness that stirred within Seraphina's soul, beckoning her toward the\""
            ],
            "application/vnd.google.colaboratory.intrinsic+json": {
              "type": "string"
            }
          },
          "metadata": {}
        }
      ]
    },
    {
      "cell_type": "code",
      "source": [
        "exam_01 = get_exam(text=text_01, limit=5)"
      ],
      "metadata": {
        "colab": {
          "base_uri": "https://localhost:8080/"
        },
        "id": "K92xoQNoqDGp",
        "outputId": "7b6e4124-e5c5-4a98-b6b0-6885880da3b0"
      },
      "execution_count": 230,
      "outputs": [
        {
          "output_type": "stream",
          "name": "stderr",
          "text": [
            "WARNING:langchain.text_splitter:Created a chunk of size 509, which is longer than the specified 500\n"
          ]
        }
      ]
    },
    {
      "cell_type": "code",
      "source": [
        "display_exam(exam_01)"
      ],
      "metadata": {
        "colab": {
          "base_uri": "https://localhost:8080/"
        },
        "id": "uoyu3BHtr-uA",
        "outputId": "118171b5-117e-4018-fed8-efdfca84c704"
      },
      "execution_count": 231,
      "outputs": [
        {
          "output_type": "stream",
          "name": "stdout",
          "text": [
            "doc_index: 5\n",
            "\n",
            "question: What did Seraphina become after her journey?\n",
            "\n",
            "1. A curious villager\n",
            "2. A guardian of realms\n",
            "3. A watchful eye\n",
            "4. A delicate tapestry\n",
            "\n",
            "correct: A guardian of realms\n",
            "\n",
            "\n",
            "doc_index: 2\n",
            "\n",
            "question: What did Seraphina find in the sand?\n",
            "\n",
            "1. An ancient artifact\n",
            "2. A treasure chest\n",
            "3. A seashell\n",
            "4. A mermaid\n",
            "\n",
            "correct: An ancient artifact\n",
            "\n",
            "\n",
            "doc_index: 6\n",
            "\n",
            "question: What does Eldridge Haven stand as a testament to?\n",
            "\n",
            "1. The enduring power of curiosity\n",
            "2. The enduring power of courage\n",
            "3. The uncharted territories within every soul\n",
            "4. All of the above\n",
            "\n",
            "correct: All of the above\n",
            "\n",
            "\n",
            "doc_index: 4\n",
            "\n",
            "question: What did Seraphina discover in the archipelago?\n",
            "\n",
            "1. Lost civilizations\n",
            "2. Enigmatic beings\n",
            "3. Mythical creatures\n",
            "4. A realm suspended between reality and dreams\n",
            "\n",
            "correct: A realm suspended between reality and dreams\n",
            "\n",
            "\n",
            "doc_index: 5\n",
            "\n",
            "question: What did Seraphina become after her journey?\n",
            "\n",
            "1. A curious villager\n",
            "2. A guardian of realms\n",
            "3. A watchful eye\n",
            "4. A young woman\n",
            "\n",
            "correct: A guardian of realms\n",
            "\n",
            "\n",
            "{'Prompt Tokens': 1731, 'Tokens Used': 1994, 'Total Cost (USD)': 0.0031225000000000003, 'Successful Requests': 5, 'Completion Tokens': 263}\n"
          ]
        }
      ]
    },
    {
      "cell_type": "code",
      "source": [
        "text_02 = read_text_file(text_path_02)\n",
        "\n",
        "display(text_02)"
      ],
      "metadata": {
        "colab": {
          "base_uri": "https://localhost:8080/",
          "height": 123
        },
        "id": "kd-xW7XjQRgq",
        "outputId": "62f2cd46-4713-4629-8cb2-2f30ec8d6fac"
      },
      "execution_count": 232,
      "outputs": [
        {
          "output_type": "display_data",
          "data": {
            "text/plain": [
              "'In the not-so-distant future, a revolutionary technological marvel known as SynthEra emerged from the laboratories of Quantum Dynamics Innovations, forever altering the landscape of human experience. SynthEra, a groundbreaking neural interface, represented the pinnacle of advancements in neurotechnology, seamlessly blending the digital and biological realms.\\n\\nAt its core, SynthEra was designed to establish a direct and symbiotic connection between the human brain and the vast expanse of digital information. Consisting of a sleek neuro-interface headset adorned with an intricate web of sensors, SynthEra employed advanced neurostimulation algorithms to interpret neural signals, transforming thoughts into actionable commands. The device seamlessly integrated with the user\\'s cognitive functions, creating an immersive and intuitive interface for navigating the digital world.\\n\\nThe possibilities unlocked by SynthEra were nothing short of awe-inspiring. Users could interact with augmented reality overlays projected directly into their field of vision, their thoughts shaping and manipulating the virtual environment around them. Information retrieval became instantaneous as users could access vast databases, analyze complex data sets, and even communicate with others in a purely mental dialogue.\\n\\nThe impact of SynthEra rippled through various sectors, revolutionizing fields such as medicine, education, and entertainment. In healthcare, surgeons utilized the neuro-interface for precision surgeries, with the ability to visualize intricate anatomical structures in real-time. The educational landscape transformed as students engaged in immersive learning experiences, exploring historical events or dissecting virtual organisms with unprecedented detail. The entertainment industry embraced SynthEra to create interactive narratives where users could become protagonists in their own virtual adventures.\\n\\nHowever, with the boundless potential of SynthEra came ethical considerations and societal shifts. Questions arose about privacy, security, and the potential misuse of such intimate access to the human mind. Striking a delicate balance between innovation and responsibility became paramount as policymakers, ethicists, and technologists grappled with the implications of this transformative technology.\\n\\nAs SynthEra became more ubiquitous, a vibrant subculture emerged, dedicated to pushing the boundaries of the neural interface\\'s capabilities. Pioneering \"neuro-artists\" crafted mesmerizing digital landscapes, and \"mind musicians\" composed symphonies that transcended traditional auditory experiences. The intersection of technology and creativity gave rise to a new era of human expression, where the boundaries between the tangible and the virtual blurred.\\n\\nIn the annals of technological history, SynthEra stood as a testament to humanity\\'s relentless pursuit of innovation. It brought forth a future where the mind\\'s potential was harnessed, transcending the limitations of the physical world and ushering in an era where the convergence of biology and technology reshaped the very fabric of human existence.'"
            ],
            "application/vnd.google.colaboratory.intrinsic+json": {
              "type": "string"
            }
          },
          "metadata": {}
        }
      ]
    },
    {
      "cell_type": "code",
      "source": [
        "exam_02 = get_exam(text=text_02, limit=5)"
      ],
      "metadata": {
        "colab": {
          "base_uri": "https://localhost:8080/"
        },
        "id": "2e2Tht_OwjBP",
        "outputId": "d327078e-bcf2-4282-9a28-cdaa36694f79"
      },
      "execution_count": 233,
      "outputs": [
        {
          "output_type": "stream",
          "name": "stderr",
          "text": [
            "WARNING:langchain.text_splitter:Created a chunk of size 520, which is longer than the specified 500\n",
            "WARNING:langchain.text_splitter:Created a chunk of size 609, which is longer than the specified 500\n"
          ]
        }
      ]
    },
    {
      "cell_type": "code",
      "source": [
        "display_exam(exam_02)"
      ],
      "metadata": {
        "colab": {
          "base_uri": "https://localhost:8080/"
        },
        "id": "rwuPGbZVwvcA",
        "outputId": "9506a73c-ce44-4d01-b2c7-dbfb3e5c1639"
      },
      "execution_count": 234,
      "outputs": [
        {
          "output_type": "stream",
          "name": "stdout",
          "text": [
            "doc_index: 6\n",
            "\n",
            "question: What did SynthEra bring forth?\n",
            "\n",
            "1. A future where the mind's potential was harnessed\n",
            "2. A future where the physical world's limitations were transcended\n",
            "3. An era where biology and technology converged\n",
            "4. All of the above\n",
            "\n",
            "correct: All of the above\n",
            "\n",
            "\n",
            "doc_index: 6\n",
            "\n",
            "question: What did SynthEra bring forth?\n",
            "\n",
            "1. A future where the mind's potential was harnessed\n",
            "2. A future where the physical world's limitations were transcended\n",
            "3. An era where biology and technology converged\n",
            "4. All of the above\n",
            "\n",
            "correct: All of the above\n",
            "\n",
            "\n",
            "doc_index: 6\n",
            "\n",
            "question: What did SynthEra bring forth?\n",
            "\n",
            "1. A future where the mind's potential was harnessed\n",
            "2. A future where biology and technology converged\n",
            "3. A future where the physical world's limitations were transcended\n",
            "\n",
            "correct: A future where biology and technology converged\n",
            "\n",
            "\n",
            "doc_index: 2\n",
            "\n",
            "question: What could users do with SynthEra?\n",
            "\n",
            "1. Access augmented reality overlays\n",
            "2. Manipulate the virtual environment\n",
            "3. Retrieve information instantaneously\n",
            "4. All of the above\n",
            "\n",
            "correct: All of the above\n",
            "\n",
            "\n",
            "doc_index: 5\n",
            "\n",
            "question: What kind of subculture emerged as SynthEra became more ubiquitous?\n",
            "\n",
            "1. Fashion\n",
            "2. Music\n",
            "3. Sports\n",
            "4. Cuisine\n",
            "\n",
            "correct: Music\n",
            "\n",
            "\n",
            "{'Prompt Tokens': 1682, 'Tokens Used': 1991, 'Total Cost (USD)': 0.0031410000000000006, 'Successful Requests': 5, 'Completion Tokens': 309}\n"
          ]
        }
      ]
    },
    {
      "cell_type": "code",
      "source": [
        "text_03 = read_text_file(text_path_03)\n",
        "\n",
        "display(text_03)"
      ],
      "metadata": {
        "colab": {
          "base_uri": "https://localhost:8080/",
          "height": 123
        },
        "id": "eUqx7UGmQR5z",
        "outputId": "00e12c89-a3eb-4e22-b04c-3948f61b4210"
      },
      "execution_count": 235,
      "outputs": [
        {
          "output_type": "display_data",
          "data": {
            "text/plain": [
              "\"Deep within the esoteric realm of abstract mathematics, a conundrum known as the Collatz conjecture captivated the minds of scholars and amateurs alike. Born in the mid-20th century from the intellect of German mathematician Lothar Collatz, this seemingly straightforward problem birthed a puzzle that has defied resolution for decades, its elusiveness challenging the very core of mathematical understanding.\\n\\nAt its heart, the Collatz conjecture revolves around the interplay of natural numbers. The rules are deceptively simple: take any positive integer 'n,' if it is even, divide it by 2; if it is odd, triple it and add 1. Repeat this process iteratively, and the conjecture posits that, regardless of the starting value, the sequence will eventually reach the elusive cycle of 4, 2, 1, and from thereon endlessly loop in this enigmatic dance.\\n\\nMathematicians, drawn to the allure of simplicity masking complexity, embarked on a journey to unlock the secrets embedded in the Collatz conjecture. Initial investigations hinted at an apparent inevitability in the convergence towards the conjectured cycle, yet as the numbers surged into the stratosphere, a chaotic unpredictability emerged. The sequence exhibited an erratic behavior, evading discernible patterns and confounding attempts at prediction.\\n\\nThe allure of the Collatz conjecture lies in its accessibility – a puzzle simple enough for amateurs to grasp, yet inscrutable enough to bewilder the most seasoned mathematicians. The simplicity of its formulation belies the depth of the mystery it conceals, inviting a vast array of mathematical minds to lend their insights to the ongoing quest for understanding.\\n\\nAs the mathematical community grappled with the Collatz conjecture, a sense of camaraderie and shared intrigue blossomed. Collaborative efforts spanned continents, facilitated by the interconnectedness of the digital age. Research papers proliferated, each proposing new avenues of exploration, and online forums buzzed with discussions ranging from computational approaches to philosophical musings on the nature of mathematical truth.\\n\\nYet, the Collatz conjecture remained elusive, a testament to the enduring mysteries within the seemingly straightforward realm of number theory. Mathematicians, undeterred by the obstinacy of the problem, continued to delve into its depths, driven by an innate curiosity to unravel the secrets concealed within the dance of numbers.\\n\\nIn the grand tapestry of mathematical inquiry, the Collatz conjecture stood as a testament to the persistent allure of the unknown. Its resolution, if it ever comes, promises not just a solution to a mathematical puzzle, but a deeper understanding of the intricate and unpredictable beauty woven into the fabric of numbers. As the quest continued, mathematicians embraced the uncertainty, for within the pursuit of the unsolved lies the essence of the mathematical spirit – an unyielding quest for knowledge and the boundless exploration of the infinite realms of possibility.\""
            ],
            "application/vnd.google.colaboratory.intrinsic+json": {
              "type": "string"
            }
          },
          "metadata": {}
        }
      ]
    },
    {
      "cell_type": "code",
      "source": [
        "exam_03 = get_exam(text=text_03, limit=5)"
      ],
      "metadata": {
        "id": "uPDJreDxwjvf"
      },
      "execution_count": 236,
      "outputs": []
    },
    {
      "cell_type": "code",
      "source": [
        "display_exam(exam_03)"
      ],
      "metadata": {
        "colab": {
          "base_uri": "https://localhost:8080/"
        },
        "id": "c9JHzvq0wwu2",
        "outputId": "9574b8cb-e70e-40b6-95ca-5c85ceb87f10"
      },
      "execution_count": 237,
      "outputs": [
        {
          "output_type": "stream",
          "name": "stdout",
          "text": [
            "doc_index: 4\n",
            "\n",
            "question: What did the collaborative efforts in the mathematical community lead to?\n",
            "\n",
            "1. New research papers\n",
            "2. Computational approaches\n",
            "3. Philosophical musings\n",
            "4. Camaraderie and shared intrigue\n",
            "\n",
            "correct: Camaraderie and shared intrigue\n",
            "\n",
            "\n",
            "doc_index: 4\n",
            "\n",
            "question: What blossomed as the mathematical community grappled with the Collatz conjecture?\n",
            "\n",
            "1. Sense of camaraderie\n",
            "2. Lack of interest\n",
            "3. Confusion\n",
            "4. Disagreement\n",
            "\n",
            "correct: Sense of camaraderie\n",
            "\n",
            "\n",
            "doc_index: 6\n",
            "\n",
            "question: What does the resolution of the Collatz conjecture promise?\n",
            "\n",
            "1. A solution to a mathematical puzzle\n",
            "2. A deeper understanding of the beauty of numbers\n",
            "3. Both A solution to a mathematical puzzle and A deeper understanding of the beauty of numbers\n",
            "4. None of the above\n",
            "\n",
            "correct: Both A solution to a mathematical puzzle and A deeper understanding of the beauty of numbers\n",
            "\n",
            "\n",
            "doc_index: 0\n",
            "\n",
            "question: What is the name of the conundrum in abstract mathematics that has defied resolution for decades?\n",
            "\n",
            "1. Collatz conjecture\n",
            "2. Lothar Collatz\n",
            "3. German mathematician\n",
            "4. Elusiveness\n",
            "\n",
            "correct: Collatz conjecture\n",
            "\n",
            "\n",
            "doc_index: 2\n",
            "\n",
            "question: What behavior does the sequence in the Collatz conjecture exhibit?\n",
            "\n",
            "1. Simplicity masking complexity\n",
            "2. Erratic behavior\n",
            "3. Convergence towards a cycle\n",
            "4. Discernible patterns\n",
            "\n",
            "correct: Erratic behavior\n",
            "\n",
            "\n",
            "{'Prompt Tokens': 1744, 'Tokens Used': 2056, 'Total Cost (USD)': 0.00324, 'Successful Requests': 5, 'Completion Tokens': 312}\n"
          ]
        }
      ]
    },
    {
      "cell_type": "code",
      "source": [
        "text_04 = read_text_file(text_path_04)\n",
        "\n",
        "display(text_04)"
      ],
      "metadata": {
        "colab": {
          "base_uri": "https://localhost:8080/",
          "height": 123
        },
        "id": "jtn6noomQSQ6",
        "outputId": "9a0e4466-7df8-4ccb-8e10-57f11478d349"
      },
      "execution_count": 238,
      "outputs": [
        {
          "output_type": "display_data",
          "data": {
            "text/plain": [
              "\"In the vast expanse of human linguistic articulation, poetry emerges as an enigmatic manifestation, a convolution of lexical cadence that transcends the conventional confines of mundane discourse. Within the nebulous realms of metaphorical articulation, poets, as lexical alchemists, wield a contrivance of language that begets an ethereal symphony, wherein the elusive shades of human sentiment meander.\\n\\nThe nuanced choreography of syllabic configurations and rhythmic resonances imbues poets with the capacity to metamorphose prosaic verbiage into an intricate mosaic of expressive profundity. In its essence, a meticulously wrought poem becomes a tapestry of allegorical impressions, each epithet and turn of phrase akin to a brushstroke upon the canvas of cognition.\\n\\nThe potency of poetry resides not solely within its articulated lexicon but rather within the interstices of verbal modulations, the intervals of pregnant reticence that implore the discerning reader to tarry and ruminate. It is in these lacunae that the ineffable finds manifestation, where the unuttered specters of human affectivity assume tangible form. The poet, akin to a sagacious navigator, escorts the reader through the labyrinthine corridors of sentiment, proffering a compass to traverse the tumultuous seas of amour, bereavement, elation, and desolation.\\n\\nThe aesthetic allure of poetry lies in its prowess to distill intricate emotions into a paltry ensemble of meticulously chosen lexemes, endowing the abstract with palpability and the elusive with corporeal essence. It is the art of compaction, wherein brevity metamorphoses into a virtuous quality, and each uttered word bears the gravitas of multitudes. Poets wield language with a precision that discloses strata of signification, prompting readers to excise the layers of lyrical veneer and unveil the profound verities beneath.\\n\\nPoetry, in its kaleidoscopic array, manifests in sundry configurations and idioms. From the structured suavity of sonnets to the unbridled cadence of untrammeled verse, every poetic modality proffers a distinctive perspective through which to scrutinize the human milieu. It constitutes a medium where the poet's oration, akin to a nightingale's song at dawn, may soar to unparalleled altitudes or whisper secrets that reverberate in the placid recesses of the soul.\\n\\nBeyond its aesthetic inclination, poetry transmutes into a bridge connecting cultures and epochs, a testament to the ubiquity of the human experiential spectrum. It transcends linguistic demarcations, beckoning readers to navigate the intricate tapestry of disparate voices that reverberate through temporal epochs. Through the medium of poetry, the echoes of antiquarian civilizations, the minstrelsy of troubadours, and the contemporaneous musings of modern versifiers coalesce in a perennial colloquy that transcends the constraints of chronological and spatial coordinates.\\n\\nIn a world rife with the ceaseless tumult of quotidian existence, poetry assumes the mantle of a sanctum, a serene oasis where introspection and contemplation find reprieve. It serves as an emollient for the psyche, offering refuge for those compelled to distill meaning from a cacophonous milieu or to eulogize the aesthetic splendors that proliferate. The poet's quill assumes the guise of a wand, weaving incantations that transport readers to domains where emotions course like rivers and imagination takes wing.\\n\\nIn the expansive canvas of human enunciation, poetry stands as an incandescent filament, forging connections betwixt disparate hearts and intellects. It constitutes a testament to the indomitable tenacity of language, the boundless potentiality of words to evoke, inspire, and transcend. As long as human hearts pulsate and cerebra ponder, poetry will endure—an everlasting testimonial to the exquisite choreography of language and the profound allure embedded in the delicate equipoise of verbiage.\""
            ],
            "application/vnd.google.colaboratory.intrinsic+json": {
              "type": "string"
            }
          },
          "metadata": {}
        }
      ]
    },
    {
      "cell_type": "code",
      "source": [
        "exam_04 = get_exam(text=text_04, limit=5)"
      ],
      "metadata": {
        "colab": {
          "base_uri": "https://localhost:8080/"
        },
        "id": "qZmmzIPjwkVv",
        "outputId": "565a7963-23f7-4b48-ebd2-b34ccba653c7"
      },
      "execution_count": 239,
      "outputs": [
        {
          "output_type": "stream",
          "name": "stderr",
          "text": [
            "WARNING:langchain.text_splitter:Created a chunk of size 567, which is longer than the specified 500\n",
            "WARNING:langchain.text_splitter:Created a chunk of size 531, which is longer than the specified 500\n",
            "WARNING:langchain.text_splitter:Created a chunk of size 577, which is longer than the specified 500\n",
            "WARNING:langchain.text_splitter:Created a chunk of size 516, which is longer than the specified 500\n"
          ]
        }
      ]
    },
    {
      "cell_type": "code",
      "source": [
        "display_exam(exam_04)"
      ],
      "metadata": {
        "colab": {
          "base_uri": "https://localhost:8080/"
        },
        "id": "saTD0mBLwyfv",
        "outputId": "df2f6649-ae62-42c8-df4b-4c723e500516"
      },
      "execution_count": 240,
      "outputs": [
        {
          "output_type": "stream",
          "name": "stdout",
          "text": [
            "doc_index: 0\n",
            "\n",
            "question: What is poetry?\n",
            "\n",
            "1. A form of human linguistic articulation\n",
            "2. A manifestation of lexical cadence\n",
            "3. A convolution of mundane discourse\n",
            "4. A contrivance of ethereal symphony\n",
            "\n",
            "correct: A form of human linguistic articulation\n",
            "\n",
            "\n",
            "doc_index: 7\n",
            "\n",
            "question: What does poetry stand as in the expansive canvas of human enunciation?\n",
            "\n",
            "1. A. An incandescent filament\n",
            "2. B. A connection betwixt disparate hearts and intellects\n",
            "3. C. A testament to the indomitable tenacity of language\n",
            "4. D. All of the above\n",
            "\n",
            "correct: D. All of the above\n",
            "\n",
            "\n",
            "doc_index: 6\n",
            "\n",
            "question: What does poetry serve as?\n",
            "\n",
            "1. A sanctuary for contemplation\n",
            "2. A tool for distilling meaning\n",
            "3. An escape from daily life\n",
            "4. All of the above\n",
            "\n",
            "correct: All of the above\n",
            "\n",
            "\n",
            "doc_index: 6\n",
            "\n",
            "question: What does poetry serve as?\n",
            "\n",
            "1. A sanctuary for introspection and contemplation\n",
            "2. A tool for distilling meaning from a cacophonous milieu\n",
            "3. A refuge for aesthetic splendors\n",
            "4. All of the above\n",
            "\n",
            "correct: All of the above\n",
            "\n",
            "\n",
            "doc_index: 4\n",
            "\n",
            "question: What does poetry offer?\n",
            "\n",
            "1. A variety of configurations and idioms\n",
            "2. A distinctive perspective on the human milieu\n",
            "3. Unparalleled altitudes and whispered secrets\n",
            "4. All of the above\n",
            "\n",
            "correct: All of the above\n",
            "\n",
            "\n",
            "{'Prompt Tokens': 1822, 'Tokens Used': 2130, 'Total Cost (USD)': 0.0033490000000000004, 'Successful Requests': 5, 'Completion Tokens': 308}\n"
          ]
        }
      ]
    },
    {
      "cell_type": "code",
      "source": [
        "text_05 = read_text_file(text_path_05)\n",
        "\n",
        "display(text_05)"
      ],
      "metadata": {
        "colab": {
          "base_uri": "https://localhost:8080/",
          "height": 123
        },
        "id": "deJ35F9NQoo7",
        "outputId": "b1fdb181-fa62-4823-ad54-0f17b7776277"
      },
      "execution_count": 241,
      "outputs": [
        {
          "output_type": "display_data",
          "data": {
            "text/plain": [
              "\"The history of Large Language Models (LLMs) is a fascinating journey that spans the intersection of artificial intelligence, natural language processing, and machine learning. The roots of LLMs can be traced back to the early endeavors in computational linguistics, where researchers sought to develop systems capable of understanding and generating human-like language.\\n\\nThe seeds of LLMs were sown in the mid-20th century, with early attempts at computer-based language translation. The Georgetown-IBM experiment in 1954 marked a pioneering effort, utilizing an early computer to translate Russian sentences into English. However, these early endeavors were constrained by the limited computational power of the time, and the results fell short of achieving true linguistic nuance.\\n\\nAs computational capabilities burgeoned in the latter half of the 20th century, researchers delved into more sophisticated approaches to natural language processing. Rule-based systems emerged, relying on predefined linguistic rules to analyze and generate human language. Despite incremental advancements, these rule-based systems struggled with the inherent ambiguity and complexity of language.\\n\\nThe advent of statistical approaches in the late 20th century heralded a paradigm shift in natural language processing. Machine learning algorithms, particularly those rooted in statistical modeling, began to outperform rule-based systems. Statistical language models, often based on n-gram models, gained traction by discerning patterns and probabilities from vast corpora of textual data.\\n\\nThe watershed moment in the evolution of LLMs arrived with the rise of neural networks and deep learning in the 21st century. The introduction of recurrent neural networks (RNNs) and later, long short-term memory networks (LSTMs), enabled models to capture contextual dependencies and sequence information effectively. These architectures paved the way for more sophisticated language models that could understand and generate coherent, contextually relevant text.\\n\\nHowever, the true breakthrough came with the advent of transformer architectures. The transformer model, introduced by Vaswani et al. in 2017, revolutionized natural language processing. Its self-attention mechanism allowed models to consider contextual information across the entire input sequence, enabling unparalleled performance in tasks like language translation, text summarization, and sentiment analysis.\\n\\nThe Transformer architecture laid the groundwork for the development of large-scale language models, such as OpenAI's GPT (Generative Pre-trained Transformer) series. GPT-3, introduced in 2020, marked a watershed moment in the field. With a staggering 175 billion parameters, GPT-3 demonstrated an unprecedented capacity to understand and generate diverse and contextually coherent text.\\n\\nThe evolution of LLMs has not been without ethical and societal considerations. The sheer scale and complexity of these models raise concerns about bias, accountability, and the environmental impact of their training processes. Researchers and developers continue to grapple with these challenges, emphasizing the need for responsible AI practices.\\n\\nAs of the present, LLMs continue to shape the landscape of natural language processing and artificial intelligence. Ongoing research focuses on refining these models, addressing ethical concerns, and exploring novel applications that leverage the profound capabilities of large language models. The history of LLMs is a testament to the relentless pursuit of unlocking the mysteries of human language through the lens of computational ingenuity.\""
            ],
            "application/vnd.google.colaboratory.intrinsic+json": {
              "type": "string"
            }
          },
          "metadata": {}
        }
      ]
    },
    {
      "cell_type": "code",
      "source": [
        "exam_05 = get_exam(text=text_05, limit=5)"
      ],
      "metadata": {
        "id": "N4rK5D7BwlCP"
      },
      "execution_count": 242,
      "outputs": []
    },
    {
      "cell_type": "code",
      "source": [
        "display_exam(exam_05)"
      ],
      "metadata": {
        "colab": {
          "base_uri": "https://localhost:8080/"
        },
        "id": "sOo6SWpMw1tP",
        "outputId": "4a0a83df-4774-4749-bf79-be6cae39eec6"
      },
      "execution_count": 243,
      "outputs": [
        {
          "output_type": "stream",
          "name": "stdout",
          "text": [
            "doc_index: 8\n",
            "\n",
            "question: What is the focus of ongoing research on LLMs?\n",
            "\n",
            "1. Refining the models\n",
            "2. Addressing ethical concerns\n",
            "3. Exploring novel applications\n",
            "4. All of the above\n",
            "\n",
            "correct: All of the above\n",
            "\n",
            "\n",
            "doc_index: 7\n",
            "\n",
            "question: What are some concerns associated with the evolution of LLMs?\n",
            "\n",
            "1. Bias, accountability, and environmental impact\n",
            "2. Scale, complexity, and societal impact\n",
            "3. Responsibility, AI practices, and development\n",
            "4. Training processes, researchers, and challenges\n",
            "\n",
            "correct: Bias, accountability, and environmental impact\n",
            "\n",
            "\n",
            "doc_index: 8\n",
            "\n",
            "question: What does ongoing research on LLMs focus on?\n",
            "\n",
            "1. Refining these models\n",
            "2. Addressing ethical concerns\n",
            "3. Exploring novel applications\n",
            "4. All of the above\n",
            "\n",
            "correct: All of the above\n",
            "\n",
            "\n",
            "doc_index: 0\n",
            "\n",
            "question: The history of Large Language Models (LLMs) is a fascinating journey that spans the intersection of which fields?\n",
            "\n",
            "1. Artificial intelligence\n",
            "2. Natural language processing\n",
            "3. Machine learning\n",
            "\n",
            "correct: All of the above\n",
            "\n",
            "\n",
            "doc_index: 2\n",
            "\n",
            "question: What kind of systems emerged as computational capabilities burgeoned in the latter half of the 20th century?\n",
            "\n",
            "1. Statistical systems\n",
            "2. Rule-based systems\n",
            "3. Neural networks\n",
            "4. Semantic analysis systems\n",
            "\n",
            "correct: Rule-based systems\n",
            "\n",
            "\n",
            "{'Prompt Tokens': 1657, 'Tokens Used': 1942, 'Total Cost (USD)': 0.0030555, 'Successful Requests': 5, 'Completion Tokens': 285}\n"
          ]
        }
      ]
    },
    {
      "cell_type": "code",
      "source": [],
      "metadata": {
        "id": "AjA26fa_wlie"
      },
      "execution_count": 243,
      "outputs": []
    },
    {
      "cell_type": "markdown",
      "source": [
        "#Solutions"
      ],
      "metadata": {
        "id": "WIitQEojxP4X"
      }
    },
    {
      "cell_type": "markdown",
      "source": [
        "**Repeating Questions: Do not repeat the random doc number**"
      ],
      "metadata": {
        "id": "iOoyHEosxSJ_"
      }
    }
  ]
}